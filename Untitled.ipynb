{
 "cells": [
  {
   "cell_type": "code",
   "execution_count": 1,
   "metadata": {},
   "outputs": [
    {
     "name": "stdout",
     "output_type": "stream",
     "text": [
      "[(100, 100), (100, 200), (200, 100), (200, 200)]\n"
     ]
    },
    {
     "ename": "error",
     "evalue": "display Surface quit",
     "output_type": "error",
     "traceback": [
      "\u001b[1;31m\u001b[0m",
      "\u001b[1;31merror\u001b[0mTraceback (most recent call last)",
      "\u001b[1;32m<ipython-input-1-d8354884d185>\u001b[0m in \u001b[0;36m<module>\u001b[1;34m()\u001b[0m\n\u001b[0;32m     70\u001b[0m \u001b[1;33m\u001b[0m\u001b[0m\n\u001b[0;32m     71\u001b[0m     \u001b[1;31m# Fill Colour\u001b[0m\u001b[1;33m\u001b[0m\u001b[1;33m\u001b[0m\u001b[0m\n\u001b[1;32m---> 72\u001b[1;33m     \u001b[0mscreen\u001b[0m\u001b[1;33m.\u001b[0m\u001b[0mfill\u001b[0m\u001b[1;33m(\u001b[0m\u001b[1;33m(\u001b[0m\u001b[1;36m54\u001b[0m\u001b[1;33m,\u001b[0m \u001b[1;36m186\u001b[0m\u001b[1;33m,\u001b[0m \u001b[1;36m145\u001b[0m\u001b[1;33m)\u001b[0m\u001b[1;33m)\u001b[0m  \u001b[1;31m# rgb colour\u001b[0m\u001b[1;33m\u001b[0m\u001b[0m\n\u001b[0m\u001b[0;32m     73\u001b[0m \u001b[1;33m\u001b[0m\u001b[0m\n\u001b[0;32m     74\u001b[0m     \u001b[1;31m# pygame.draw.line(screen, (0, 0, 0), (10, 30), (400, 500), 5)\u001b[0m\u001b[1;33m\u001b[0m\u001b[1;33m\u001b[0m\u001b[0m\n",
      "\u001b[1;31merror\u001b[0m: display Surface quit"
     ]
    }
   ],
   "source": [
    "\n",
    "import pygame\n",
    "import graph\n",
    "\n",
    "# Initialise\n",
    "pygame.init()\n",
    "\n",
    "# Create Screen\n",
    "screen = pygame.display.set_mode((800, 600))  # pixel size\n",
    "\n",
    "# Title and Icon\n",
    "pygame.display.set_caption(\"Epic Graph Game\")\n",
    "icon = pygame.image.load(\"big_ben.png\")\n",
    "pygame.display.set_icon(icon)\n",
    "\n",
    "# Player Icon\n",
    "player_image = pygame.image.load(\"person-walking.png\")\n",
    "player_x = 370\n",
    "player_y = 480\n",
    "player_x_change = 0\n",
    "player_y_change = 0\n",
    "\n",
    "\n",
    "# Player Function\n",
    "def player(x, y):\n",
    "    screen.blit(player_image, (x, y))\n",
    "\n",
    "\n",
    "A = graph.Graph()\n",
    "\n",
    "A.set_coordinates((100, 100), (100, 200), (200, 100), (200, 200))\n",
    "A.set_connections((0, 1, 1), (1, 2, 2), (2, 0, 4), (3, 2, 8))\n",
    "print(A.get_coordinates())\n",
    "\n",
    "# Run Game\n",
    "while True:\n",
    "    for event in pygame.event.get():\n",
    "        if event.type == pygame.QUIT:\n",
    "            pygame.quit()\n",
    "            quit()\n",
    "\n",
    "        # Keystrokes\n",
    "        if event.type == pygame.KEYDOWN:\n",
    "            if event.key == pygame.K_LEFT:\n",
    "                player_x_change = -1\n",
    "            if event.key == pygame.K_RIGHT:\n",
    "                player_x_change = 1\n",
    "            if event.key == pygame.K_UP:\n",
    "                player_y_change = -1\n",
    "            if event.key == pygame.K_DOWN:\n",
    "                player_y_change = 1\n",
    "        if event.type == pygame.KEYUP:\n",
    "            if event.key == pygame.K_LEFT or event.key == pygame.K_RIGHT:\n",
    "                player_x_change = 0\n",
    "            if event.key == pygame.K_UP or event.key == pygame.K_DOWN:\n",
    "                player_y_change = 0\n",
    "\n",
    "    player_x += player_x_change\n",
    "    player_y += player_y_change\n",
    "\n",
    "    if player_x <= 0:\n",
    "        player_x = 0\n",
    "    elif player_x >= 736:\n",
    "        player_x = 736\n",
    "\n",
    "    if player_y <= 0:\n",
    "        player_y = 0\n",
    "    elif player_y >= 536:\n",
    "        player_y = 536\n",
    "\n",
    "    # Fill Colour\n",
    "    screen.fill((54, 186, 145))  # rgb colour\n",
    "\n",
    "    # pygame.draw.line(screen, (0, 0, 0), (10, 30), (400, 500), 5)\n",
    "    for con in A.get_connections():\n",
    "        pygame.draw.line(screen, (150, 0, 0), A.get_coordinates()[con[0]], A.get_coordinates()[con[1]], con[2])\n",
    "\n",
    "    for coo in A.get_coordinates():\n",
    "        pygame.draw.circle(screen, (0, 0, 150), coo, 10)\n",
    "\n",
    "    player(player_x, player_y)\n",
    "    pygame.display.update()\n"
   ]
  }
 ],
 "metadata": {
  "kernelspec": {
   "display_name": "Python 2",
   "language": "python",
   "name": "python2"
  },
  "language_info": {
   "codemirror_mode": {
    "name": "ipython",
    "version": 2
   },
   "file_extension": ".py",
   "mimetype": "text/x-python",
   "name": "python",
   "nbconvert_exporter": "python",
   "pygments_lexer": "ipython2",
   "version": "2.7.16"
  }
 },
 "nbformat": 4,
 "nbformat_minor": 2
}
